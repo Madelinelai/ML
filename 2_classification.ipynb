{
  "nbformat": 4,
  "nbformat_minor": 0,
  "metadata": {
    "colab": {
      "name": "2_classification.ipynb",
      "provenance": [],
      "collapsed_sections": [],
      "include_colab_link": true
    },
    "kernelspec": {
      "name": "python3",
      "display_name": "Python 3"
    }
  },
  "cells": [
    {
      "cell_type": "markdown",
      "metadata": {
        "id": "view-in-github",
        "colab_type": "text"
      },
      "source": [
        "<a href=\"https://colab.research.google.com/github/Madelinelai/ML/blob/main/2_classification.ipynb\" target=\"_parent\"><img src=\"https://colab.research.google.com/assets/colab-badge.svg\" alt=\"Open In Colab\"/></a>"
      ]
    },
    {
      "cell_type": "markdown",
      "metadata": {
        "id": "-Rf81CoeGdeH"
      },
      "source": [
        "使用 Scikit Learn 預測分類問題\n",
        "\n",
        "1. Logistic regression\n",
        "1. Overfitting vs underfitting\n",
        "1. class weight"
      ]
    },
    {
      "cell_type": "code",
      "metadata": {
        "id": "geT53ofmGW7Y",
        "colab": {
          "base_uri": "https://localhost:8080/",
          "height": 107
        },
        "outputId": "815bed06-e7fb-48db-99e3-3681a4b22b88"
      },
      "source": [
        "# 套件安裝 (避免未來 Colab 預設使用新版本 Python 套件造成程式無法執行)\n",
        "!pip install scikit-learn==0.22.1\n",
        "!pip install numpy==1.18.2"
      ],
      "execution_count": null,
      "outputs": [
        {
          "output_type": "stream",
          "text": [
            "Requirement already satisfied: scikit-learn==0.22.1 in /usr/local/lib/python3.6/dist-packages (0.22.1)\n",
            "Requirement already satisfied: numpy>=1.11.0 in /usr/local/lib/python3.6/dist-packages (from scikit-learn==0.22.1) (1.18.2)\n",
            "Requirement already satisfied: joblib>=0.11 in /usr/local/lib/python3.6/dist-packages (from scikit-learn==0.22.1) (0.15.1)\n",
            "Requirement already satisfied: scipy>=0.17.0 in /usr/local/lib/python3.6/dist-packages (from scikit-learn==0.22.1) (1.4.1)\n",
            "Requirement already satisfied: numpy==1.18.2 in /usr/local/lib/python3.6/dist-packages (1.18.2)\n"
          ],
          "name": "stdout"
        }
      ]
    },
    {
      "cell_type": "code",
      "metadata": {
        "id": "7PlWjlqyklEd"
      },
      "source": [
        "# import 套件\n",
        "import numpy as np\n",
        "from sklearn.datasets import load_iris\n",
        "from sklearn.linear_model import LogisticRegression\n",
        "from sklearn.metrics import accuracy_score\n",
        "\n",
        "# 固定 random seed，確保每次亂數結果都一樣\n",
        "np.random.seed(551335114)"
      ],
      "execution_count": null,
      "outputs": []
    },
    {
      "cell_type": "code",
      "metadata": {
        "id": "RKqTZ75flAPT",
        "colab": {
          "base_uri": "https://localhost:8080/",
          "height": 1000
        },
        "outputId": "df60ec89-bcd0-4867-c6d8-b2d620b08c19"
      },
      "source": [
        "data = load_iris()\n",
        "print(data.keys())\n",
        "print('------------------------------------------------------------')\n",
        "print('filename:', data['filename'])\n",
        "print(\"data['feature_names']\", data['feature_names'])\n",
        "print(\"data['data']: type and shape\", type(data['data']), data['data'].shape)\n",
        "print(\"data['target_names']\", data['target_names'])\n",
        "print(\"data['target']: type and shape and unique\", type(data['target']), data['target'].shape, np.unique(data['target']))\n",
        "print('------------------------------------------------------------')\n",
        "print(data['DESCR'])\n",
        "# petal: 花瓣\n",
        "# sepal: 萼片"
      ],
      "execution_count": null,
      "outputs": [
        {
          "output_type": "stream",
          "text": [
            "dict_keys(['data', 'target', 'target_names', 'DESCR', 'feature_names', 'filename'])\n",
            "------------------------------------------------------------\n",
            "filename: /usr/local/lib/python3.6/dist-packages/sklearn/datasets/data/iris.csv\n",
            "data['feature_names'] ['sepal length (cm)', 'sepal width (cm)', 'petal length (cm)', 'petal width (cm)']\n",
            "data['data']: type and shape <class 'numpy.ndarray'> (150, 4)\n",
            "data['target_names'] ['setosa' 'versicolor' 'virginica']\n",
            "data['target']: type and shape and unique <class 'numpy.ndarray'> (150,) [0 1 2]\n",
            "------------------------------------------------------------\n",
            ".. _iris_dataset:\n",
            "\n",
            "Iris plants dataset\n",
            "--------------------\n",
            "\n",
            "**Data Set Characteristics:**\n",
            "\n",
            "    :Number of Instances: 150 (50 in each of three classes)\n",
            "    :Number of Attributes: 4 numeric, predictive attributes and the class\n",
            "    :Attribute Information:\n",
            "        - sepal length in cm\n",
            "        - sepal width in cm\n",
            "        - petal length in cm\n",
            "        - petal width in cm\n",
            "        - class:\n",
            "                - Iris-Setosa\n",
            "                - Iris-Versicolour\n",
            "                - Iris-Virginica\n",
            "                \n",
            "    :Summary Statistics:\n",
            "\n",
            "    ============== ==== ==== ======= ===== ====================\n",
            "                    Min  Max   Mean    SD   Class Correlation\n",
            "    ============== ==== ==== ======= ===== ====================\n",
            "    sepal length:   4.3  7.9   5.84   0.83    0.7826\n",
            "    sepal width:    2.0  4.4   3.05   0.43   -0.4194\n",
            "    petal length:   1.0  6.9   3.76   1.76    0.9490  (high!)\n",
            "    petal width:    0.1  2.5   1.20   0.76    0.9565  (high!)\n",
            "    ============== ==== ==== ======= ===== ====================\n",
            "\n",
            "    :Missing Attribute Values: None\n",
            "    :Class Distribution: 33.3% for each of 3 classes.\n",
            "    :Creator: R.A. Fisher\n",
            "    :Donor: Michael Marshall (MARSHALL%PLU@io.arc.nasa.gov)\n",
            "    :Date: July, 1988\n",
            "\n",
            "The famous Iris database, first used by Sir R.A. Fisher. The dataset is taken\n",
            "from Fisher's paper. Note that it's the same as in R, but not as in the UCI\n",
            "Machine Learning Repository, which has two wrong data points.\n",
            "\n",
            "This is perhaps the best known database to be found in the\n",
            "pattern recognition literature.  Fisher's paper is a classic in the field and\n",
            "is referenced frequently to this day.  (See Duda & Hart, for example.)  The\n",
            "data set contains 3 classes of 50 instances each, where each class refers to a\n",
            "type of iris plant.  One class is linearly separable from the other 2; the\n",
            "latter are NOT linearly separable from each other.\n",
            "\n",
            ".. topic:: References\n",
            "\n",
            "   - Fisher, R.A. \"The use of multiple measurements in taxonomic problems\"\n",
            "     Annual Eugenics, 7, Part II, 179-188 (1936); also in \"Contributions to\n",
            "     Mathematical Statistics\" (John Wiley, NY, 1950).\n",
            "   - Duda, R.O., & Hart, P.E. (1973) Pattern Classification and Scene Analysis.\n",
            "     (Q327.D83) John Wiley & Sons.  ISBN 0-471-22361-1.  See page 218.\n",
            "   - Dasarathy, B.V. (1980) \"Nosing Around the Neighborhood: A New System\n",
            "     Structure and Classification Rule for Recognition in Partially Exposed\n",
            "     Environments\".  IEEE Transactions on Pattern Analysis and Machine\n",
            "     Intelligence, Vol. PAMI-2, No. 1, 67-71.\n",
            "   - Gates, G.W. (1972) \"The Reduced Nearest Neighbor Rule\".  IEEE Transactions\n",
            "     on Information Theory, May 1972, 431-433.\n",
            "   - See also: 1988 MLC Proceedings, 54-64.  Cheeseman et al\"s AUTOCLASS II\n",
            "     conceptual clustering system finds 3 classes in the data.\n",
            "   - Many, many more ...\n"
          ],
          "name": "stdout"
        }
      ]
    },
    {
      "cell_type": "code",
      "metadata": {
        "id": "qdT-7QKF4f7Y",
        "colab": {
          "base_uri": "https://localhost:8080/",
          "height": 341
        },
        "outputId": "55fcfcb6-4c5f-4fa5-e6d3-fb5429711cb2"
      },
      "source": [
        "# 內建資料沒有測試集(test set)，這邊自己做一個\n",
        "index = np.arange(len(data['target']))\n",
        "print(index)\n",
        "np.random.shuffle(index)\n",
        "print(index)"
      ],
      "execution_count": null,
      "outputs": [
        {
          "output_type": "stream",
          "text": [
            "[  0   1   2   3   4   5   6   7   8   9  10  11  12  13  14  15  16  17\n",
            "  18  19  20  21  22  23  24  25  26  27  28  29  30  31  32  33  34  35\n",
            "  36  37  38  39  40  41  42  43  44  45  46  47  48  49  50  51  52  53\n",
            "  54  55  56  57  58  59  60  61  62  63  64  65  66  67  68  69  70  71\n",
            "  72  73  74  75  76  77  78  79  80  81  82  83  84  85  86  87  88  89\n",
            "  90  91  92  93  94  95  96  97  98  99 100 101 102 103 104 105 106 107\n",
            " 108 109 110 111 112 113 114 115 116 117 118 119 120 121 122 123 124 125\n",
            " 126 127 128 129 130 131 132 133 134 135 136 137 138 139 140 141 142 143\n",
            " 144 145 146 147 148 149]\n",
            "[ 37  88  82   0   2  16  95 116  31  65 102 147  94  87  22  15  38  85\n",
            "  59  11  44 142  68 137  66  40  30  57  92 128 126   9  34  10  71   7\n",
            "  74 144 136  19  46 113  13 100 104 145  12  75  79 120  78 143  23  14\n",
            " 129  69  80  51 127  24  33  32  91  36  76  56 140  50  89   3 110  27\n",
            "  63  52 115  53  70 119 101 131   4 111  42 133 105  49   1  45  55 103\n",
            " 125 146  25 108  41 134  62  17  35  98  73   8  21  90  61   6  47 130\n",
            "  81  64  20 107  96  48  77 122 141  97  67 124  83  93 132  28 114  84\n",
            "  18 106 117 138  39  26  43 149 123  86 135  60  58   5  29 121 109  54\n",
            " 112 118 139  99  72 148]\n"
          ],
          "name": "stdout"
        }
      ]
    },
    {
      "cell_type": "code",
      "metadata": {
        "id": "2cgltovR_u7v",
        "colab": {
          "base_uri": "https://localhost:8080/",
          "height": 305
        },
        "outputId": "a4521657-e74f-4d78-818c-eba6226c09cb"
      },
      "source": [
        "# 130 x 4\n",
        "train_feature = data['data'][index[:130], :]\n",
        "# 130\n",
        "train_label = data['target'][index[:130]]\n",
        "\n",
        "# 20 x 4\n",
        "test_feature = data['data'][index[130:], :]\n",
        "# 20\n",
        "test_label = data['target'][index[130:]]\n",
        "\n",
        "print('train feature / label shape:', train_feature.shape, train_label.shape)\n",
        "print('test feature / label shape:', test_feature.shape, test_label.shape)\n",
        "\n",
        "print('sample train feature:\\n', train_feature[0:10])\n",
        "\n",
        "for i in range(3):\n",
        "  print('Number of label', i, sum(train_label == i))"
      ],
      "execution_count": null,
      "outputs": [
        {
          "output_type": "stream",
          "text": [
            "train feature / label shape: (130, 4) (130,)\n",
            "test feature / label shape: (20, 4) (20,)\n",
            "sample train feature:\n",
            " [[4.9 3.6 1.4 0.1]\n",
            " [5.6 3.  4.1 1.3]\n",
            " [5.8 2.7 3.9 1.2]\n",
            " [5.1 3.5 1.4 0.2]\n",
            " [4.7 3.2 1.3 0.2]\n",
            " [5.4 3.9 1.3 0.4]\n",
            " [5.7 3.  4.2 1.2]\n",
            " [6.5 3.  5.5 1.8]\n",
            " [5.4 3.4 1.5 0.4]\n",
            " [6.7 3.1 4.4 1.4]]\n",
            "Number of label 0 45\n",
            "Number of label 1 44\n",
            "Number of label 2 41\n"
          ],
          "name": "stdout"
        }
      ]
    },
    {
      "cell_type": "markdown",
      "metadata": {
        "id": "frBW5xc9BCaD"
      },
      "source": [
        "訓練資料：130筆\n",
        "\n",
        "測試資料：20筆\n",
        "\n",
        "優化目標：測試資料的準確度(accuracy)。\n",
        "\n",
        "Accuracy = 答對的筆數 / 全部的筆數"
      ]
    },
    {
      "cell_type": "markdown",
      "metadata": {
        "id": "2pZO-Ylbh_jE"
      },
      "source": [
        "Logistic regression\n",
        "\n",
        "公式 https://scikit-learn.org/stable/modules/linear_model.html#logistic-regression\n",
        "\n",
        "![image.png](data:image/png;base64,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)"
      ]
    },
    {
      "cell_type": "code",
      "metadata": {
        "id": "SK8xVJfaJNig",
        "colab": {
          "base_uri": "https://localhost:8080/",
          "height": 35
        },
        "outputId": "84e5f1e0-5790-42e5-a1ab-a752110bc6be"
      },
      "source": [
        "# training\n",
        "w = np.array([0.5, 0.3, 0.2, 0.2])\n",
        "c = 0.1\n",
        "X = np.array([4.9, 3.6, 1.4, 0.1])\n",
        "C = 1\n",
        "y = -1\n",
        "\n",
        "# 假設資料只有一筆\n",
        "print(0.5 * np.dot(w, w) + C * np.log(np.exp(-y * (np.dot(X, w) + c)) + 1))"
      ],
      "execution_count": null,
      "outputs": [
        {
          "output_type": "stream",
          "text": [
            "4.159453225628276\n"
          ],
          "name": "stdout"
        }
      ]
    },
    {
      "cell_type": "code",
      "metadata": {
        "id": "Rptl9NHip5Kn",
        "colab": {
          "base_uri": "https://localhost:8080/",
          "height": 35
        },
        "outputId": "726df337-8fb6-411e-d329-7d668ba1572e"
      },
      "source": [
        "# prediction / inference\n",
        "np.dot(X, w) + c"
      ],
      "execution_count": null,
      "outputs": [
        {
          "output_type": "execute_result",
          "data": {
            "text/plain": [
              "3.93"
            ]
          },
          "metadata": {
            "tags": []
          },
          "execution_count": 6
        }
      ]
    },
    {
      "cell_type": "markdown",
      "metadata": {
        "id": "SFEM3csciRPI"
      },
      "source": [
        "y in {-1, 1}\n",
        "\n",
        "答對的情況：(y=1 且 xw+c > 0) 或 (y=-1 且 xw+c < 0) 則 exp內 < 0 (有負號)\n",
        "\n",
        "反之，答錯的情況，exp 內是正數\n",
        "\n",
        "因為 exp 跟 log (e 為底數)都是遞增函數，所以裡面數字越大，外面的數字就會越大。\n"
      ]
    },
    {
      "cell_type": "code",
      "metadata": {
        "id": "XQj9dJKhkERY",
        "colab": {
          "base_uri": "https://localhost:8080/",
          "height": 107
        },
        "outputId": "a859122b-494e-4648-ff31-ecf485b981d6"
      },
      "source": [
        "print(np.log(np.exp(-2) + 1))\n",
        "print(np.log(np.exp(-1) + 1))\n",
        "print(np.log(np.exp(0) + 1))\n",
        "print(np.log(np.exp(1) + 1))\n",
        "print(np.log(np.exp(2) + 1))"
      ],
      "execution_count": null,
      "outputs": [
        {
          "output_type": "stream",
          "text": [
            "0.1269280110429726\n",
            "0.31326168751822286\n",
            "0.6931471805599453\n",
            "1.3132616875182228\n",
            "2.1269280110429727\n"
          ],
          "name": "stdout"
        }
      ]
    },
    {
      "cell_type": "markdown",
      "metadata": {
        "id": "g-c-6c1NEcR2"
      },
      "source": [
        "**什麼是 overfitting ？**\n",
        "\n",
        "當 Model 太過複雜的時候...\n",
        "\n",
        "![image.png](data:image/png;base64,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)\n",
        "\n",
        "反之，則稱為 underfitting。\n",
        "\n",
        "image from: 由Chabacano - 自己的作品，CC BY-SA 4.0，https://commons.wikimedia.org/w/index.php?curid=3610704\n",
        "\n",
        "wTw 為 regularization，避免 overfitting (為什麼？)，靠 C 調整強度。\n"
      ]
    },
    {
      "cell_type": "markdown",
      "metadata": {
        "id": "eNC-l3F3SnKm"
      },
      "source": [
        "\n",
        "Multiclass 的解法：\n",
        "\n",
        "one versus rest (one versus all)：\n",
        "\n",
        "有 A, B, C 三個類別，訓練三個分類器： A=1, B,C=-1  B=1, A,C=-1  C=1, A,B=-1\n",
        "\n",
        "預測時三個都做預測，取分數最高的當作答案\n",
        "\n",
        "multinomial：y 變成向量，w 變成矩陣\n"
      ]
    },
    {
      "cell_type": "markdown",
      "metadata": {
        "id": "E5jv4YYJxiP8"
      },
      "source": [
        "# **class_weight='balanced'**\n",
        "\n",
        "處理 imbalance data 時需要注意 class weight。\n",
        "\n",
        "假設一組資料有 100 個 1 跟 10000 個 0。\n",
        "\n",
        "class weight = 100 的話會將 1 的權重 x 100 倍，讓 1 的總權重跟 0 的總權重一樣。\n",
        "\n",
        "想想看，為什麼要這樣做？"
      ]
    },
    {
      "cell_type": "code",
      "metadata": {
        "id": "sAEqFLDhJ5v5",
        "colab": {
          "base_uri": "https://localhost:8080/",
          "height": 197
        },
        "outputId": "1fb2e62d-65e8-4145-d2a9-40d48dac38c6"
      },
      "source": [
        "# 訓練模型 \n",
        "# 使用方法 https://scikit-learn.org/stable/modules/generated/sklearn.linear_model.LogisticRegression.html\n",
        "model = LogisticRegression(class_weight='balanced')\n",
        "model.fit(train_feature, train_label)\n",
        "train_predict = model.predict(train_feature)\n",
        "print('Train set accuracy:', accuracy_score(train_label, train_predict))\n",
        "\n",
        "test_predict = model.predict(test_feature)\n",
        "print('Test set accuracy:', accuracy_score(test_label, test_predict))"
      ],
      "execution_count": null,
      "outputs": [
        {
          "output_type": "stream",
          "text": [
            "Train set accuracy: 0.9692307692307692\n",
            "Test set accuracy: 1.0\n"
          ],
          "name": "stdout"
        },
        {
          "output_type": "stream",
          "text": [
            "/usr/local/lib/python3.6/dist-packages/sklearn/linear_model/_logistic.py:940: ConvergenceWarning: lbfgs failed to converge (status=1):\n",
            "STOP: TOTAL NO. of ITERATIONS REACHED LIMIT.\n",
            "\n",
            "Increase the number of iterations (max_iter) or scale the data as shown in:\n",
            "    https://scikit-learn.org/stable/modules/preprocessing.html\n",
            "Please also refer to the documentation for alternative solver options:\n",
            "    https://scikit-learn.org/stable/modules/linear_model.html#logistic-regression\n",
            "  extra_warning_msg=_LOGISTIC_SOLVER_CONVERGENCE_MSG)\n"
          ],
          "name": "stderr"
        }
      ]
    }
  ]
}