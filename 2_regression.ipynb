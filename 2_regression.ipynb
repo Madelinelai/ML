{
  "nbformat": 4,
  "nbformat_minor": 0,
  "metadata": {
    "colab": {
      "name": "2-3_regression.ipynb",
      "provenance": [],
      "collapsed_sections": [],
      "include_colab_link": true
    },
    "kernelspec": {
      "name": "python3",
      "display_name": "Python 3"
    }
  },
  "cells": [
    {
      "cell_type": "markdown",
      "metadata": {
        "id": "view-in-github",
        "colab_type": "text"
      },
      "source": [
        "<a href=\"https://colab.research.google.com/github/Madelinelai/ML/blob/main/2_regression.ipynb\" target=\"_parent\"><img src=\"https://colab.research.google.com/assets/colab-badge.svg\" alt=\"Open In Colab\"/></a>"
      ]
    },
    {
      "cell_type": "markdown",
      "metadata": {
        "id": "XwGizAOSUKWY"
      },
      "source": [
        "使用 Scikit Learn 預測迴歸問題\n",
        "\n",
        "1. 迴歸模型\n",
        "1. 建立驗證集\n",
        "1. 選擇參數\n",
        "1. Feature improtance\n",
        "1. 梯度下降法：複雜的公式如何求解？不使用 scikit learn，自己實作模型"
      ]
    },
    {
      "cell_type": "code",
      "metadata": {
        "id": "BWj7F80WUDwe",
        "colab": {
          "base_uri": "https://localhost:8080/",
          "height": 488
        },
        "outputId": "6d587538-78de-4528-80f3-968fb607409c"
      },
      "source": [
        "# 套件安裝 (避免未來 Colab 預設使用新版本 Python 套件造成程式無法執行)\n",
        "!pip install scikit-learn==0.22.1\n",
        "!pip install numpy==1.18.2"
      ],
      "execution_count": null,
      "outputs": [
        {
          "output_type": "stream",
          "text": [
            "Collecting scikit-learn==0.22.1\n",
            "\u001b[?25l  Downloading https://files.pythonhosted.org/packages/d1/48/e9fa9e252abcd1447eff6f9257636af31758a6e46fd5ce5d3c879f6907cb/scikit_learn-0.22.1-cp36-cp36m-manylinux1_x86_64.whl (7.0MB)\n",
            "\u001b[K     |████████████████████████████████| 7.1MB 2.7MB/s \n",
            "\u001b[?25hRequirement already satisfied: numpy>=1.11.0 in /usr/local/lib/python3.6/dist-packages (from scikit-learn==0.22.1) (1.18.5)\n",
            "Requirement already satisfied: scipy>=0.17.0 in /usr/local/lib/python3.6/dist-packages (from scikit-learn==0.22.1) (1.4.1)\n",
            "Requirement already satisfied: joblib>=0.11 in /usr/local/lib/python3.6/dist-packages (from scikit-learn==0.22.1) (0.15.1)\n",
            "Installing collected packages: scikit-learn\n",
            "  Found existing installation: scikit-learn 0.22.2.post1\n",
            "    Uninstalling scikit-learn-0.22.2.post1:\n",
            "      Successfully uninstalled scikit-learn-0.22.2.post1\n",
            "Successfully installed scikit-learn-0.22.1\n",
            "Collecting numpy==1.18.2\n",
            "\u001b[?25l  Downloading https://files.pythonhosted.org/packages/07/08/a549ba8b061005bb629b76adc000f3caaaf881028b963c2e18f811c6edc1/numpy-1.18.2-cp36-cp36m-manylinux1_x86_64.whl (20.2MB)\n",
            "\u001b[K     |████████████████████████████████| 20.2MB 42.3MB/s \n",
            "\u001b[31mERROR: datascience 0.10.6 has requirement folium==0.2.1, but you'll have folium 0.8.3 which is incompatible.\u001b[0m\n",
            "\u001b[31mERROR: albumentations 0.1.12 has requirement imgaug<0.2.7,>=0.2.5, but you'll have imgaug 0.2.9 which is incompatible.\u001b[0m\n",
            "\u001b[?25hInstalling collected packages: numpy\n",
            "  Found existing installation: numpy 1.18.5\n",
            "    Uninstalling numpy-1.18.5:\n",
            "      Successfully uninstalled numpy-1.18.5\n",
            "Successfully installed numpy-1.18.2\n"
          ],
          "name": "stdout"
        },
        {
          "output_type": "display_data",
          "data": {
            "application/vnd.colab-display-data+json": {
              "pip_warning": {
                "packages": [
                  "numpy"
                ]
              }
            }
          },
          "metadata": {
            "tags": []
          }
        }
      ]
    },
    {
      "cell_type": "code",
      "metadata": {
        "id": "3PAHJDX-UQHH"
      },
      "source": [
        "# import 套件\n",
        "import numpy as np\n",
        "import pandas as pd\n",
        "from sklearn.datasets import fetch_california_housing\n",
        "from sklearn.linear_model import Lasso\n",
        "from sklearn.metrics import mean_squared_error\n",
        "from sklearn.model_selection import KFold\n",
        "from sklearn.preprocessing import MinMaxScaler\n",
        "\n",
        "# 固定 random seed，確保每次亂數結果都一樣\n",
        "np.random.seed(551335114)"
      ],
      "execution_count": null,
      "outputs": []
    },
    {
      "cell_type": "code",
      "metadata": {
        "id": "zL1HaB_CUUgI",
        "colab": {
          "base_uri": "https://localhost:8080/",
          "height": 881
        },
        "outputId": "abf87acd-4e00-4dc6-cf2d-7269fb9449c1"
      },
      "source": [
        "data = fetch_california_housing()\n",
        "print(data.keys())\n",
        "print('------------------------------------------------------------')\n",
        "print(\"data['feature_names']\", data['feature_names'])\n",
        "print(\"data['data']: type and shape\", type(data['data']), data['data'].shape)\n",
        "print(\"data['target']: type and shape\", type(data['target']), data['target'].shape)\n",
        "print('------------------------------------------------------------')\n",
        "print(data['DESCR'])\n"
      ],
      "execution_count": null,
      "outputs": [
        {
          "output_type": "stream",
          "text": [
            "Downloading Cal. housing from https://ndownloader.figshare.com/files/5976036 to /root/scikit_learn_data\n"
          ],
          "name": "stderr"
        },
        {
          "output_type": "stream",
          "text": [
            "dict_keys(['data', 'target', 'feature_names', 'DESCR'])\n",
            "------------------------------------------------------------\n",
            "data['feature_names'] ['MedInc', 'HouseAge', 'AveRooms', 'AveBedrms', 'Population', 'AveOccup', 'Latitude', 'Longitude']\n",
            "data['data']: type and shape <class 'numpy.ndarray'> (20640, 8)\n",
            "data['target']: type and shape <class 'numpy.ndarray'> (20640,)\n",
            "------------------------------------------------------------\n",
            ".. _california_housing_dataset:\n",
            "\n",
            "California Housing dataset\n",
            "--------------------------\n",
            "\n",
            "**Data Set Characteristics:**\n",
            "\n",
            "    :Number of Instances: 20640\n",
            "\n",
            "    :Number of Attributes: 8 numeric, predictive attributes and the target\n",
            "\n",
            "    :Attribute Information:\n",
            "        - MedInc        median income in block\n",
            "        - HouseAge      median house age in block\n",
            "        - AveRooms      average number of rooms\n",
            "        - AveBedrms     average number of bedrooms\n",
            "        - Population    block population\n",
            "        - AveOccup      average house occupancy\n",
            "        - Latitude      house block latitude\n",
            "        - Longitude     house block longitude\n",
            "\n",
            "    :Missing Attribute Values: None\n",
            "\n",
            "This dataset was obtained from the StatLib repository.\n",
            "http://lib.stat.cmu.edu/datasets/\n",
            "\n",
            "The target variable is the median house value for California districts.\n",
            "\n",
            "This dataset was derived from the 1990 U.S. census, using one row per census\n",
            "block group. A block group is the smallest geographical unit for which the U.S.\n",
            "Census Bureau publishes sample data (a block group typically has a population\n",
            "of 600 to 3,000 people).\n",
            "\n",
            "It can be downloaded/loaded using the\n",
            ":func:`sklearn.datasets.fetch_california_housing` function.\n",
            "\n",
            ".. topic:: References\n",
            "\n",
            "    - Pace, R. Kelley and Ronald Barry, Sparse Spatial Autoregressions,\n",
            "      Statistics and Probability Letters, 33 (1997) 291-297\n",
            "\n"
          ],
          "name": "stdout"
        }
      ]
    },
    {
      "cell_type": "code",
      "metadata": {
        "id": "WH3A6Bb-5sd2"
      },
      "source": [
        "# 內建資料沒有測試集(test set)，這邊自己做一個\n",
        "index = np.arange(len(data['target']))\n",
        "np.random.shuffle(index)"
      ],
      "execution_count": null,
      "outputs": []
    },
    {
      "cell_type": "code",
      "metadata": {
        "id": "utgoW1BIU0uY",
        "colab": {
          "base_uri": "https://localhost:8080/",
          "height": 53
        },
        "outputId": "7df4e438-6c7c-4635-c47d-ba8532fd16eb"
      },
      "source": [
        "n_train = len(index) * 8 // 10\n",
        "train_feature = data['data'][index[:n_train], :]\n",
        "train_label = data['target'][index[:n_train]]\n",
        "\n",
        "test_feature = data['data'][index[n_train:], :]\n",
        "test_label = data['target'][index[n_train:]]\n",
        "\n",
        "print('train feature / label shape:', train_feature.shape, train_label.shape)\n",
        "print('test feature / label shape:', test_feature.shape, test_label.shape)"
      ],
      "execution_count": null,
      "outputs": [
        {
          "output_type": "stream",
          "text": [
            "train feature / label shape: (16512, 8) (16512,)\n",
            "test feature / label shape: (4128, 8) (4128,)\n"
          ],
          "name": "stdout"
        }
      ]
    },
    {
      "cell_type": "markdown",
      "metadata": {
        "id": "lz00gYdFVCch"
      },
      "source": [
        "訓練資料：16512筆\n",
        "\n",
        "測試資料：4128筆\n",
        "\n",
        "優化目標：測試資料的均方誤差(mean square error, mse)。\n",
        "\n",
        "mse = (預測的數值 - 答案)^2 / 筆數\n",
        "\n",
        "rmse = mse 開根號"
      ]
    },
    {
      "cell_type": "markdown",
      "metadata": {
        "id": "AaO8kqeHUIwH"
      },
      "source": [
        "模型：Lasso\n",
        "\n",
        "公式 https://scikit-learn.org/stable/modules/linear_model.html#lasso\n",
        "\n",
        "使用方法 https://scikit-learn.org/stable/modules/generated/sklearn.linear_model.Lasso.html\n",
        "\n",
        "\n",
        "![image.png](data:image/png;base64,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)\n",
        "\n",
        "資料越多，regularization 相對越強"
      ]
    },
    {
      "cell_type": "code",
      "metadata": {
        "id": "V014G53pOHeQ",
        "colab": {
          "base_uri": "https://localhost:8080/",
          "height": 53
        },
        "outputId": "7a8f7b1e-36c8-48b0-a498-44afc6f1f714"
      },
      "source": [
        "# 1 norm\n",
        "x = np.array([-1, 1, 2, -4])\n",
        "print(np.abs(x).sum())\n",
        "print(np.linalg.norm(x, 1))"
      ],
      "execution_count": null,
      "outputs": [
        {
          "output_type": "stream",
          "text": [
            "8\n",
            "8.0\n"
          ],
          "name": "stdout"
        }
      ]
    },
    {
      "cell_type": "code",
      "metadata": {
        "id": "2P5dIY0CYDvN",
        "colab": {
          "base_uri": "https://localhost:8080/",
          "height": 71
        },
        "outputId": "08d217c8-5a12-4f76-cacf-ec81362392a0"
      },
      "source": [
        "X = np.array([\n",
        "    [1, 2, 3, 4],\n",
        "    [5, 6, 7, 8],\n",
        "    [9, 10, 1, 2]\n",
        "])\n",
        "w = np.array([0.1, 0.2, 0.3, 0.5])\n",
        "y = np.array([0.2, 0.4, -1])\n",
        "print(np.matmul(X, w))\n",
        "print(np.power(np.matmul(X, w) - y, 2).sum())\n",
        "print(np.power(np.linalg.norm(np.matmul(X, w) - y, 2), 2))"
      ],
      "execution_count": null,
      "outputs": [
        {
          "output_type": "stream",
          "text": [
            "[3.4 7.8 4.2]\n",
            "92.04\n",
            "92.04000000000002\n"
          ],
          "name": "stdout"
        }
      ]
    },
    {
      "cell_type": "code",
      "metadata": {
        "id": "bB05edINVjGg",
        "colab": {
          "base_uri": "https://localhost:8080/",
          "height": 53
        },
        "outputId": "776b9b90-0b2a-446a-ca4a-0e847018fa38"
      },
      "source": [
        "# 訓練模型 \n",
        "model = Lasso()\n",
        "model.fit(train_feature, train_label)\n",
        "train_predict = model.predict(train_feature)\n",
        "print('Train set root mean_squared_error:', np.sqrt(mean_squared_error(train_label, train_predict)))\n",
        "\n",
        "test_predict = model.predict(test_feature)\n",
        "print('Test set root mean_squared_error:', np.sqrt(mean_squared_error(test_label, test_predict)))"
      ],
      "execution_count": null,
      "outputs": [
        {
          "output_type": "stream",
          "text": [
            "Train set root mean_squared_error: 0.9789649323468235\n",
            "Test set root mean_squared_error: 0.9649904748968182\n"
          ],
          "name": "stdout"
        }
      ]
    },
    {
      "cell_type": "markdown",
      "metadata": {
        "id": "4A1OaKBFZcX1"
      },
      "source": [
        "# **交互驗證 Cross validation**\n",
        "\n",
        "希望對模型做任何調整，都可以在真正使用前先知道怎麼調整比較好。\n",
        "\n",
        "60 筆資料切三份：A, B, C 各 20 筆\n",
        "\n",
        "第一次：A + B train, C validate\n",
        "\n",
        "第二次：A + C train, B validate\n",
        "\n",
        "第三次：B + C train, A validate\n",
        "\n"
      ]
    },
    {
      "cell_type": "code",
      "metadata": {
        "id": "Tv2zKFilWs55"
      },
      "source": [
        "# 交叉驗證 Cross Validation 選擇參數 - alpha\n",
        "def cross_validation(feature, label, alpha_range=[0.0001, 0.001, 0.01, 0.1, 1, 10, 100]):\n",
        "    kf = KFold(n_splits=4, random_state=551335114, shuffle=False)\n",
        "    best_alpha = 1.0\n",
        "    best_mse = np.inf\n",
        "    for alpha in alpha_range:\n",
        "        subtrain_mse = []\n",
        "        validation_mse = []\n",
        "        for subtrain_index, validation_index in kf.split(feature, label):\n",
        "            subtrain_feature = feature[subtrain_index]\n",
        "            subtrain_label = label[subtrain_index]\n",
        "            validation_feature = feature[validation_index]\n",
        "            validation_label = label[validation_index]\n",
        "        \n",
        "            model = Lasso(alpha=alpha)\n",
        "            model.fit(subtrain_feature, subtrain_label)\n",
        "            subtrain_predict = model.predict(subtrain_feature)\n",
        "            subtrain_mse.append(mean_squared_error(subtrain_label, subtrain_predict))\n",
        "\n",
        "            validation_predict = model.predict(validation_feature)\n",
        "            validation_mse.append(mean_squared_error(validation_label, validation_predict))\n",
        "        subtrain_mse = np.mean(np.sqrt(subtrain_mse))\n",
        "        validation_mse = np.mean(np.sqrt(validation_mse))\n",
        "        print('ALpha %f Subtrain/Validation root mean_squared_error: %.8f / %.8f' % (alpha, subtrain_mse, validation_mse))\n",
        "        if validation_mse < best_mse:\n",
        "            best_mse = validation_mse\n",
        "            best_alpha = alpha\n",
        "    return best_alpha"
      ],
      "execution_count": null,
      "outputs": []
    },
    {
      "cell_type": "code",
      "metadata": {
        "id": "q5g06p3HWj1L",
        "colab": {
          "base_uri": "https://localhost:8080/",
          "height": 341
        },
        "outputId": "82b6da5f-ceef-469e-a0f0-c7a9d49617e9"
      },
      "source": [
        "df = pd.DataFrame(data=train_feature, columns=data['feature_names'])\n",
        "df['label'] = train_label\n",
        "\n",
        "df = df.describe()\n",
        "print(df[df.columns[:5]])\n",
        "print(df[df.columns[5:]])\n"
      ],
      "execution_count": null,
      "outputs": [
        {
          "output_type": "stream",
          "text": [
            "             MedInc      HouseAge      AveRooms     AveBedrms    Population\n",
            "count  16512.000000  16512.000000  16512.000000  16512.000000  16512.000000\n",
            "mean       3.869625     28.657703      5.421616      1.096600   1424.108224\n",
            "std        1.898487     12.602713      2.529277      0.492291   1139.332009\n",
            "min        0.499900      1.000000      0.846154      0.333333      5.000000\n",
            "25%        2.566775     18.000000      4.434542      1.005638    787.000000\n",
            "50%        3.533000     29.000000      5.224934      1.048710   1166.000000\n",
            "75%        4.740575     37.000000      6.042284      1.099490   1728.000000\n",
            "max       15.000100     52.000000    141.909091     34.066667  35682.000000\n",
            "           AveOccup      Latitude     Longitude         label\n",
            "count  16512.000000  16512.000000  16512.000000  16512.000000\n",
            "mean       3.089272     35.632038   -119.570167      2.067687\n",
            "std       11.462579      2.137378      2.003319      1.155936\n",
            "min        0.692308     32.540000   -124.350000      0.149990\n",
            "25%        2.428905     33.930000   -121.790000      1.188000\n",
            "50%        2.816879     34.250000   -118.490000      1.795000\n",
            "75%        3.280302     37.710000   -118.010000      2.650000\n",
            "max     1243.333333     41.950000   -114.310000      5.000010\n"
          ],
          "name": "stdout"
        }
      ]
    },
    {
      "cell_type": "code",
      "metadata": {
        "id": "mmJHhed_Sgyo",
        "colab": {
          "base_uri": "https://localhost:8080/",
          "height": 307
        },
        "outputId": "687618d3-ae19-4eab-bc95-53cd374ba00a"
      },
      "source": [
        "# linear model 需要 normalize feature，為什麼？\n",
        "print(train_feature[0])\n",
        "# https://scikit-learn.org/stable/modules/generated/sklearn.preprocessing.MinMaxScaler.html\n",
        "scaler = MinMaxScaler()\n",
        "feature = scaler.fit_transform(train_feature)\n",
        "print(feature[0])\n",
        "best_alpha = cross_validation(feature, train_label, alpha_range=[1e-6, 1e-5, 1e-4, 0.0001, 0.001, 0.01])\n",
        "print('Best alpha:', best_alpha)\n",
        "model = Lasso(alpha=best_alpha)\n",
        "model.fit(feature, train_label)\n",
        "train_predict = model.predict(feature)\n",
        "print('Train set root mean_squared_error:', np.sqrt(mean_squared_error(train_label, train_predict)))\n",
        "\n",
        "feature = scaler.transform(test_feature)\n",
        "test_predict = model.predict(feature)\n",
        "print('Test set root mean_squared_error:', np.sqrt(mean_squared_error(test_label, test_predict)))\n"
      ],
      "execution_count": null,
      "outputs": [
        {
          "output_type": "stream",
          "text": [
            "[ 6.38610000e+00  3.80000000e+01  5.41038961e+00  1.07532468e+00\n",
            "  1.60000000e+03  2.07792208e+00  3.38900000e+01 -1.18410000e+02]\n",
            "[0.40593923 0.7254902  0.03235602 0.02199579 0.04470667 0.00111506\n",
            " 0.1434644  0.59163347]\n",
            "ALpha 0.000001 Subtrain/Validation root mean_squared_error: 0.72681588 / 0.73445242\n",
            "ALpha 0.000010 Subtrain/Validation root mean_squared_error: 0.72682580 / 0.73395052\n"
          ],
          "name": "stdout"
        },
        {
          "output_type": "stream",
          "text": [
            "/usr/local/lib/python3.6/dist-packages/sklearn/model_selection/_split.py:296: FutureWarning: Setting a random_state has no effect since shuffle is False. This will raise an error in 0.24. You should leave random_state to its default (None), or set shuffle=True.\n",
            "  FutureWarning\n"
          ],
          "name": "stderr"
        },
        {
          "output_type": "stream",
          "text": [
            "ALpha 0.000100 Subtrain/Validation root mean_squared_error: 0.72781491 / 0.73186643\n",
            "ALpha 0.000100 Subtrain/Validation root mean_squared_error: 0.72781491 / 0.73186643\n",
            "ALpha 0.001000 Subtrain/Validation root mean_squared_error: 0.73763444 / 0.73835703\n",
            "ALpha 0.010000 Subtrain/Validation root mean_squared_error: 0.77670100 / 0.77719694\n",
            "Best alpha: 0.0001\n",
            "Train set root mean_squared_error: 0.7284674842453469\n",
            "Test set root mean_squared_error: 0.7127046899863625\n"
          ],
          "name": "stdout"
        }
      ]
    },
    {
      "cell_type": "markdown",
      "metadata": {
        "id": "ba3p-ba_2D7k"
      },
      "source": [
        "# **Feature importance**\n",
        "\n",
        "哪個特徵最重要？"
      ]
    },
    {
      "cell_type": "code",
      "metadata": {
        "id": "LUERATCJ2J-D",
        "colab": {
          "base_uri": "https://localhost:8080/",
          "height": 55
        },
        "outputId": "7f4e9fa5-65a1-45a3-e7b6-bfabb66af8bf"
      },
      "source": [
        "# feature importance\n",
        "print(list(zip(data['feature_names'], model.coef_)))"
      ],
      "execution_count": null,
      "outputs": [
        {
          "output_type": "stream",
          "text": [
            "[('MedInc', 5.968432310206655), ('HouseAge', 0.47920568187340795), ('AveRooms', -9.0438872029081), ('AveBedrms', 14.277463760760602), ('Population', -0.0), ('AveOccup', -3.093367176660278), ('Latitude', -4.085845994189825), ('Longitude', -4.495209112865012)]\n"
          ],
          "name": "stdout"
        }
      ]
    },
    {
      "cell_type": "markdown",
      "metadata": {
        "id": "vghsnSRObPpp"
      },
      "source": [
        "# **梯度下降法 Gradient descent**\n",
        "\n",
        "![image.png](data:image/png;base64,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)\n",
        "\n",
        "from wiki: https://commons.wikimedia.org/wiki/File:Wiki_slope_in_2d.svg\n",
        "\n",
        "極值發生在微分 = 0 的地方，那微分不為零的地方？\n",
        "\n",
        "微分 = 斜率 = dY / dX\n",
        "\n",
        "走微分的反方向讓函數值變小！"
      ]
    },
    {
      "cell_type": "markdown",
      "metadata": {
        "id": "NpA8B6q3o4KY"
      },
      "source": [
        "![image.png](data:image/png;base64,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)\n",
        "\n",
        "如何求微分？\n",
        "\n",
        "先把矩陣打開：\n",
        "\n",
        "![image.png](data:image/png;base64,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)\n",
        "\n",
        "對 wj 微分\n",
        "\n",
        "![image.png](data:image/png;base64,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)"
      ]
    },
    {
      "cell_type": "markdown",
      "metadata": {
        "id": "_7RdIni3rHuQ"
      },
      "source": [
        "絕對值的微分？\n",
        "\n",
        "![image.png](data:image/png;base64,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)\n",
        "\n",
        "from wiki: https://commons.wikimedia.org/wiki/File:Absolute_value.svg"
      ]
    },
    {
      "cell_type": "markdown",
      "metadata": {
        "id": "SCEb4YfzHxmp"
      },
      "source": [
        "Gradient descent 在某些條件下是可以保證往函數極小值靠近的\n",
        "\n",
        "[數學證明](https://machine-learning-notes.gitlab.io/docs/convex_optimization/gradient_descent/)"
      ]
    },
    {
      "cell_type": "code",
      "metadata": {
        "id": "XG2nlL5UbwHS",
        "colab": {
          "base_uri": "https://localhost:8080/",
          "height": 251
        },
        "outputId": "e87f77f9-b20a-443a-db1e-bc2fef6900fe"
      },
      "source": [
        "w = np.random.random(train_feature.shape[1] + 1) * 2 - 1  # 有一個 bias term\n",
        "a = 0.0001\n",
        "\n",
        "def f(X, w, y):\n",
        "    return np.power(np.linalg.norm(np.matmul(X, w) - y, 2), 2) / X.shape[0] / 2 + a * np.linalg.norm(w, 1)\n",
        "\n",
        "def gradient(X, w, y):\n",
        "    g = np.zeros_like(w)\n",
        "    for i in range(X.shape[0]):\n",
        "        g += 2 * X[i] * (np.dot(X[i], w) - y[i])\n",
        "    g = g / X.shape[0] / 2 + a * np.sign(w)\n",
        "    return g\n",
        "\n",
        "feature = scaler.fit_transform(train_feature)\n",
        "print(feature[0])\n",
        "X = np.hstack((feature, np.ones((feature.shape[0], 1))))\n",
        "y = train_label\n",
        "f_pre = np.inf\n",
        "eps = 1e-4\n",
        "lr = 1e-2\n",
        "for i in range(1000):\n",
        "    fi = f(X, w, y)\n",
        "    if i % 100 == 0:\n",
        "        print(fi, np.abs(f_pre - fi))\n",
        "    if np.abs(f_pre - fi) < eps:\n",
        "        break\n",
        "    f_pre = fi\n",
        "    g = gradient(X, w, y)\n",
        "    w -= lr * g\n",
        "\n",
        "print('Weight', w)\n",
        "print('RMSE', np.sqrt(mean_squared_error(y, np.matmul(X, w))))"
      ],
      "execution_count": null,
      "outputs": [
        {
          "output_type": "stream",
          "text": [
            "[0.40593923 0.7254902  0.03235602 0.02199579 0.04470667 0.00111506\n",
            " 0.1434644  0.59163347]\n",
            "1.4097848596196283 inf\n",
            "0.6629570467702266 0.0010012143073002688\n",
            "0.62542156659145 0.00016029772882630855\n",
            "0.6117902021551077 0.00012592936050725978\n",
            "0.5995983353798406 0.00011850652028932984\n",
            "0.5880569919726046 0.0001124781928187879\n",
            "0.577092066712578 0.00010695005997884977\n",
            "0.5666583180168523 0.00010184179973538043\n",
            "Weight [ 0.88148426  1.00736319 -0.32326694 -0.1554249   0.61953895  0.64111529\n",
            " -0.48377549 -0.42153033  1.65921122]\n",
            "RMSE 1.0602878594783687\n"
          ],
          "name": "stdout"
        }
      ]
    },
    {
      "cell_type": "code",
      "metadata": {
        "id": "eX72QaK7Lyul",
        "colab": {
          "base_uri": "https://localhost:8080/",
          "height": 71
        },
        "outputId": "9ddb30d6-50a0-4d20-851f-cf55f4bcb3ae"
      },
      "source": [
        "mw = np.concatenate([model.coef_, [model.intercept_]])\n",
        "print('Weight from scikit-learn', mw)\n",
        "print(f(X, mw, y))"
      ],
      "execution_count": null,
      "outputs": [
        {
          "output_type": "stream",
          "text": [
            "Weight from scikit-learn [ 5.96843231  0.47920568 -9.0438872  14.27746376 -0.         -3.09336718\n",
            " -4.08584599 -4.49520911  3.8797034 ]\n",
            "0.269864749265621\n"
          ],
          "name": "stdout"
        }
      ]
    }
  ]
}