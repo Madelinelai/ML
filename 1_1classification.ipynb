{
  "nbformat": 4,
  "nbformat_minor": 0,
  "metadata": {
    "colab": {
      "name": "1_1classification.ipynb",
      "private_outputs": true,
      "provenance": [],
      "collapsed_sections": [],
      "authorship_tag": "ABX9TyPqVxutzlZ83AZB7r3GXpaE",
      "include_colab_link": true
    },
    "kernelspec": {
      "name": "python3",
      "display_name": "Python 3"
    },
    "language_info": {
      "name": "python"
    }
  },
  "cells": [
    {
      "cell_type": "markdown",
      "metadata": {
        "id": "view-in-github",
        "colab_type": "text"
      },
      "source": [
        "<a href=\"https://colab.research.google.com/github/Madelinelai/ML/blob/main/1_1classification.ipynb\" target=\"_parent\"><img src=\"https://colab.research.google.com/assets/colab-badge.svg\" alt=\"Open In Colab\"/></a>"
      ]
    },
    {
      "cell_type": "code",
      "metadata": {
        "id": "nTK0p6DkgmZ3"
      },
      "source": [
        "import pandas as pd\n",
        "from sklearn.datasets import load_iris\n",
        "iris = load_iris()\n",
        "# DataFrame: 表格. Series: 一行/一列. \n",
        "df = pd.DataFrame(iris[\"data\"], \n",
        "                  columns=iris[\"feature_names\"])\n",
        "df[\"ans\"] = iris[\"target\"]\n",
        "df.to_csv(\"iris.csv\", encoding=\"utf-8\", index=False)\n",
        "df"
      ],
      "execution_count": null,
      "outputs": []
    },
    {
      "cell_type": "code",
      "metadata": {
        "id": "qvCQylNHODdv"
      },
      "source": [
        "# sklearn前: pandas.DataFrame\n",
        "# sklearn後: np.array\n",
        "import numpy as np\n",
        "from sklearn.model_selection import train_test_split\n",
        "x,y=np.array(df.drop([\"ans\"],axis=1)),np.array(df[\"ans\"])\n",
        "# 90% x, 10% x, 90% y, 10% y\n",
        "x_train, x_test, y_train, y_test = train_test_split(x, \n",
        "                                                    y,\n",
        "                                                    test_size=0.1)\n",
        "print(x_train.shape)\n",
        "print(x_test.shape)\n",
        "print(y_train.shape)\n",
        "print(y_test.shape)"
      ],
      "execution_count": null,
      "outputs": []
    },
    {
      "cell_type": "code",
      "metadata": {
        "id": "qUl8MsdKUfdJ"
      },
      "source": [
        "from sklearn.tree import DecisionTreeClassifier\n",
        "clf = DecisionTreeClassifier()\n",
        "clf.fit(x_train, y_train)"
      ],
      "execution_count": null,
      "outputs": []
    },
    {
      "cell_type": "code",
      "metadata": {
        "id": "40vQc1xhUgBR"
      },
      "source": [
        "import matplotlib.pyplot as plt\n",
        "from sklearn.tree import plot_tree\n",
        "plt.figure(figsize=(10, 10))\n",
        "plot_tree(clf, \n",
        "          feature_names=iris[\"feature_names\"], \n",
        "          class_names=iris[\"target_names\"],\n",
        "          filled=True)"
      ],
      "execution_count": null,
      "outputs": []
    },
    {
      "cell_type": "code",
      "metadata": {
        "id": "_2c0iD4wmIIT"
      },
      "source": [
        "#以決策樹預測出的準確率是0.8，愈接近1愈好\n",
        "#以accuracy為度量標準，因為是單純的猜對或猜錯\n",
        "from sklearn.metrics import accuracy_score\n",
        "pre = clf.predict(x_test)\n",
        "accuracy_score(pre, y_test)"
      ],
      "execution_count": null,
      "outputs": []
    },
    {
      "cell_type": "code",
      "metadata": {
        "id": "XwOnCa6omIo8"
      },
      "source": [
        ""
      ],
      "execution_count": null,
      "outputs": []
    }
  ]
}